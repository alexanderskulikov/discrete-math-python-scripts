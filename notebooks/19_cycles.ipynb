{
 "cells": [
  {
   "cell_type": "markdown",
   "id": "269b1720-bb7d-410b-a675-b7f3696c5d2b",
   "metadata": {},
   "source": [
    "## Connected Components"
   ]
  },
  {
   "cell_type": "code",
   "execution_count": 1,
   "id": "3d7e35a3-37a4-4002-be66-9018a40de9d0",
   "metadata": {},
   "outputs": [
    {
     "name": "stdout",
     "output_type": "stream",
     "text": [
      "[{1, 2, 5}, {3, 4, 6, 7, 8}]\n"
     ]
    }
   ],
   "source": [
    "from networkx import connected_components, Graph\n",
    "\n",
    "edges = [(1, 2), (3, 8), (4, 6), (3, 6), (2, 5), (3, 7), (4, 8), (5, 1)]\n",
    "print(list(connected_components(Graph(edges))))"
   ]
  },
  {
   "cell_type": "markdown",
   "id": "3a8ba258-61aa-489c-b93e-971aada8868d",
   "metadata": {},
   "source": [
    "Solving Guarini puzzle:"
   ]
  },
  {
   "cell_type": "code",
   "execution_count": 2,
   "id": "0c8769ab-2ca7-4aaa-9169-4bf85af9378e",
   "metadata": {},
   "outputs": [
    {
     "name": "stdout",
     "output_type": "stream",
     "text": [
      "420\n",
      "960\n",
      "2\n",
      "17\n"
     ]
    }
   ],
   "source": [
    "import networkx as nx\n",
    "from itertools import combinations, permutations\n",
    "\n",
    "board_graph = nx.Graph([(0, 4), (4, 5), (5, 1), (1, 7), (7, 3), (3, 2), (2, 6), (6, 0)])\n",
    "\n",
    "conf_graph = nx.Graph()\n",
    "conf_graph.add_nodes_from(permutations('WWBB****'))\n",
    "\n",
    "for conf1, conf2 in combinations(conf_graph.nodes(), 2):\n",
    "    diff = [i for i in range(8) if conf1[i] != conf2[i]]\n",
    "    if len(diff) != 2:\n",
    "        continue\n",
    "    i, j = diff\n",
    "\n",
    "    if board_graph.has_edge(i, j) and (conf1[i] == conf2[j] and conf1[j] == conf2[i]) and [conf1[i], conf1[j]].count('*') == 1:\n",
    "        conf_graph.add_edge(conf1, conf2)\n",
    "\n",
    "print(nx.number_of_nodes(conf_graph))\n",
    "print(nx.number_of_edges(conf_graph))\n",
    "print(nx.number_connected_components(conf_graph))\n",
    "\n",
    "print(len(nx.shortest_path(\n",
    "    conf_graph, tuple(\"W*W**B*B\"), tuple(\"B*B**W*W\"))))"
   ]
  },
  {
   "cell_type": "markdown",
   "id": "00aee372-e56f-47ac-a974-47308c905168",
   "metadata": {},
   "source": [
    "### Lower Bound on the Number of Connected Components"
   ]
  },
  {
   "cell_type": "code",
   "execution_count": 3,
   "id": "9b4d5a94-ea24-4bbb-b522-30b1af16ec05",
   "metadata": {},
   "outputs": [
    {
     "name": "stdout",
     "output_type": "stream",
     "text": [
      "|V|-|E|=5, c=5\n",
      "|V|-|E|=4, c=4\n",
      "|V|-|E|=3, c=3\n",
      "|V|-|E|=2, c=3\n",
      "|V|-|E|=1, c=2\n",
      "|V|-|E|=0, c=2\n",
      "|V|-|E|=-1, c=1\n",
      "|V|-|E|=-2, c=1\n",
      "|V|-|E|=-3, c=1\n"
     ]
    }
   ],
   "source": [
    "from networkx import Graph, number_connected_components\n",
    "\n",
    "nodes = [1, 2, 3, 4, 5, 6]\n",
    "edges = [(1, 5), (4, 6), (5, 2), (2, 1), (3, 4), (6, 3), (1, 4), (3, 1), (2, 3)]\n",
    "\n",
    "graph = Graph()\n",
    "graph.add_nodes_from(nodes)\n",
    "for edge in edges:\n",
    "    graph.add_edge(*edge)\n",
    "    print(f'|V|-|E|={graph.number_of_nodes() - graph.number_of_edges()}, c={number_connected_components(graph)}')"
   ]
  },
  {
   "cell_type": "markdown",
   "id": "0c1d014e-520d-4309-8e6c-2f2bd45b12ce",
   "metadata": {},
   "source": [
    "## Directed Acyclic Graphs"
   ]
  },
  {
   "cell_type": "markdown",
   "id": "1ff7b435-c4b9-4b72-9a93-4f136bbae858",
   "metadata": {},
   "source": [
    "### Topological Ordering"
   ]
  },
  {
   "cell_type": "code",
   "execution_count": 4,
   "id": "91e36a38-e60c-4d05-bf8c-c4323b9532a5",
   "metadata": {},
   "outputs": [
    {
     "name": "stdout",
     "output_type": "stream",
     "text": [
      "Topological ordering: 2 1 5 3 4\n"
     ]
    }
   ],
   "source": [
    "import networkx as nx\n",
    "\n",
    "graph = nx.DiGraph([(2, 1), (1, 5), (5, 4), (2, 5), (1, 3)])\n",
    "\n",
    "if nx.is_directed_acyclic_graph(graph):\n",
    "    print('Topological ordering:', *nx.topological_sort(graph))\n",
    "else:\n",
    "    print('The graph is cyclic, so it cannot be topologically sorted.')"
   ]
  },
  {
   "cell_type": "markdown",
   "id": "1413553a-dc93-407c-8494-734094548d50",
   "metadata": {},
   "source": [
    "### Strongly Connected Components"
   ]
  },
  {
   "cell_type": "code",
   "execution_count": 5,
   "id": "64a6517e-7eae-496e-b30b-82f2f67a27b6",
   "metadata": {},
   "outputs": [
    {
     "name": "stdout",
     "output_type": "stream",
     "text": [
      "{'7', '8', '2'}\n",
      "{'3', '6', '5', '1'}\n",
      "{'4'}\n"
     ]
    }
   ],
   "source": [
    "from networkx import DiGraph, strongly_connected_components\n",
    "\n",
    "for scc in strongly_connected_components(DiGraph(['13', '61', '32', '27', '82', '43', '35', '63', '56', '78', '48'])):\n",
    "    print(scc)"
   ]
  },
  {
   "cell_type": "markdown",
   "id": "4fbcc47d-ca70-4abc-adef-826c66fa93ac",
   "metadata": {},
   "source": [
    "## Eulerian and Hamiltonian Cycles"
   ]
  },
  {
   "cell_type": "markdown",
   "id": "4d00040a-0cf1-4b2f-902a-bf3d9fc4d818",
   "metadata": {},
   "source": [
    "### Eulerian Cycles"
   ]
  },
  {
   "cell_type": "code",
   "execution_count": 6,
   "id": "6cc51578-c9f4-409d-8dfd-d39d6937c44a",
   "metadata": {},
   "outputs": [
    {
     "name": "stdout",
     "output_type": "stream",
     "text": [
      "A->C->D->E->B->C->E->A->B\n"
     ]
    }
   ],
   "source": [
    "from networkx import DiGraph, eulerian_path\n",
    "\n",
    "g = DiGraph(['AB', 'BC', 'CD', 'DE', 'EA', 'AC', 'CE', 'EB'])\n",
    "path = list(eulerian_path(g))\n",
    "print('->'.join([path[0][0]] + [e[1][-1] for e in path]))"
   ]
  },
  {
   "cell_type": "markdown",
   "id": "03ecaab5-2d91-4e31-ac47-04648a03c06a",
   "metadata": {},
   "source": [
    "Solving Plow Truck puzzle:"
   ]
  },
  {
   "cell_type": "code",
   "execution_count": 7,
   "id": "9ef3fd29-0c73-4058-bff1-4ed40dae7edb",
   "metadata": {},
   "outputs": [
    {
     "name": "stdout",
     "output_type": "stream",
     "text": [
      "68\n",
      "(0, 0)→(0, 1)→(0, 2)→(0, 3)→(0, 4)→(0, 5)→(1, 5)→(2, 5)→(3, 5)→(4, 5)→(5, 5)→(5, 4)→(5, 3)→(5, 4)→(4, 4)→(4, 5)→(3, 5)→(3, 4)→(4, 4)→(4, 3)→(5, 3)→(5, 2)→(5, 1)→(5, 2)→(4, 2)→(4, 3)→(3, 3)→(3, 4)→(2, 4)→(2, 5)→(1, 5)→(1, 4)→(2, 4)→(2, 3)→(3, 3)→(3, 2)→(4, 2)→(4, 1)→(5, 1)→(5, 0)→(4, 0)→(4, 1)→(3, 1)→(3, 2)→(2, 2)→(2, 3)→(1, 3)→(1, 4)→(0, 4)→(0, 3)→(1, 3)→(1, 2)→(2, 2)→(2, 1)→(3, 1)→(3, 0)→(4, 0)→(3, 0)→(2, 0)→(2, 1)→(1, 1)→(1, 2)→(0, 2)→(0, 1)→(1, 1)→(1, 0)→(2, 0)→(1, 0)\n"
     ]
    }
   ],
   "source": [
    "import networkx as nx\n",
    "\n",
    "grid = nx.MultiGraph(nx.grid_2d_graph(m=6, n=6))\n",
    "grid = nx.eulerize(grid)\n",
    "print(nx.number_of_edges(grid))\n",
    "cycle = nx.eulerian_circuit(grid, source=(0, 0))\n",
    "print('→'.join(str(edge[0]) for edge in cycle))"
   ]
  },
  {
   "cell_type": "markdown",
   "id": "fbe5f3c8-1b3c-4dd0-85b5-c0416b1a55ce",
   "metadata": {},
   "source": [
    "### Genome Assembly"
   ]
  },
  {
   "cell_type": "code",
   "execution_count": 8,
   "id": "81f4477f-2f22-4c85-98bb-32c9d99d08ca",
   "metadata": {},
   "outputs": [
    {
     "name": "stdout",
     "output_type": "stream",
     "text": [
      "TCCATCAGCA\n"
     ]
    }
   ],
   "source": [
    "import networkx as nx\n",
    "from networkx import DiGraph, eulerian_path\n",
    "\n",
    "reads = ['AGC', 'ATC', 'CAG', 'CAT', 'CCA', 'GCA', 'TCA', 'TCC']\n",
    "graph = DiGraph(strict=False)\n",
    "for read in reads:\n",
    "    graph.add_edge(read[:-1], read[1:])\n",
    "\n",
    "path = list(eulerian_path(graph))\n",
    "print(path[0][0] + ''.join(e[1][-1] for e in path))"
   ]
  }
 ],
 "metadata": {
  "kernelspec": {
   "display_name": "Python 3 (ipykernel)",
   "language": "python",
   "name": "python3"
  },
  "language_info": {
   "codemirror_mode": {
    "name": "ipython",
    "version": 3
   },
   "file_extension": ".py",
   "mimetype": "text/x-python",
   "name": "python",
   "nbconvert_exporter": "python",
   "pygments_lexer": "ipython3",
   "version": "3.9.6"
  }
 },
 "nbformat": 4,
 "nbformat_minor": 5
}
