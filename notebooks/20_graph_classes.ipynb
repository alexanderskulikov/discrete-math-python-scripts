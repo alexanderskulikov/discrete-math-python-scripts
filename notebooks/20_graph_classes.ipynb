{
 "cells": [
  {
   "cell_type": "markdown",
   "id": "ceec580c-fe9e-46ab-9fae-8bc8363b8a84",
   "metadata": {},
   "source": [
    "## Trees"
   ]
  },
  {
   "cell_type": "code",
   "execution_count": 1,
   "id": "77c02c44-c191-4987-a866-e4abb6c42d10",
   "metadata": {},
   "outputs": [
    {
     "name": "stdout",
     "output_type": "stream",
     "text": [
      "17\n"
     ]
    }
   ],
   "source": [
    "from networkx import Graph, minimum_spanning_edges\n",
    "\n",
    "graph = Graph()\n",
    "for u, v, w in [('A', 'B', 3), ('A', 'F', 4), ('B', 'G', 1), ('F', 'G', 3), ('B', 'C', 3), ('C', 'G', 2), ('F', 'E', 4), ('G', 'E', 7), ('C', 'D', 5), ('E', 'D', 4), ('C', 'E', 5)]:\n",
    "    graph.add_edge(u, v, weight=w)\n",
    "\n",
    "print(sum(e[2]['weight'] for e in minimum_spanning_edges(graph)))"
   ]
  },
  {
   "cell_type": "markdown",
   "id": "f1819166-6df3-46a0-b1c4-323f236dcc88",
   "metadata": {},
   "source": [
    "## Matchings"
   ]
  },
  {
   "cell_type": "code",
   "execution_count": 2,
   "id": "45f968a8-84f4-4ece-964c-1064059cfa81",
   "metadata": {},
   "outputs": [
    {
     "name": "stdout",
     "output_type": "stream",
     "text": [
      "1-B 2-C 3-D 4-A 5-E\n"
     ]
    }
   ],
   "source": [
    "import networkx as nx\n",
    "\n",
    "matching = nx.bipartite.maximum_matching(nx.Graph(['1B', '1C', '1D', '2A', '2C', '2E', '3B', '3C', '3D', '4A', '4E', '5A', '5E']))\n",
    "print(*[f'{u}-{matching[u]}' for u in ('1', '2', '3', '4', '5')])"
   ]
  },
  {
   "cell_type": "markdown",
   "id": "c3fe948f-a145-4203-8768-27f197579e68",
   "metadata": {},
   "source": [
    "## Planar Graphs"
   ]
  },
  {
   "cell_type": "code",
   "execution_count": 3,
   "id": "54dee7f5-47a9-4cbb-8fc0-e4284988f2e7",
   "metadata": {},
   "outputs": [
    {
     "name": "stdout",
     "output_type": "stream",
     "text": [
      "True\n",
      "False\n",
      "False\n"
     ]
    }
   ],
   "source": [
    "import networkx as nx\n",
    "\n",
    "print(nx.is_planar(nx.complete_graph(4)))\n",
    "print(nx.is_planar(nx.complete_graph(5)))\n",
    "print(nx.is_planar(nx.complete_bipartite_graph(3, 3)))"
   ]
  }
 ],
 "metadata": {
  "kernelspec": {
   "display_name": "Python 3 (ipykernel)",
   "language": "python",
   "name": "python3"
  },
  "language_info": {
   "codemirror_mode": {
    "name": "ipython",
    "version": 3
   },
   "file_extension": ".py",
   "mimetype": "text/x-python",
   "name": "python",
   "nbconvert_exporter": "python",
   "pygments_lexer": "ipython3",
   "version": "3.9.6"
  }
 },
 "nbformat": 4,
 "nbformat_minor": 5
}
