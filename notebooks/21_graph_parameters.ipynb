{
 "cells": [
  {
   "cell_type": "markdown",
   "id": "633aae3e-6be9-46d2-b4b4-2cf28796c6fe",
   "metadata": {},
   "source": [
    "## Graph Coloring"
   ]
  },
  {
   "cell_type": "code",
   "execution_count": 1,
   "id": "9634586e-9f3d-4f70-a3bc-d46993cd2778",
   "metadata": {},
   "outputs": [
    {
     "name": "stdout",
     "output_type": "stream",
     "text": [
      "c(A)=0 c(B)=1 c(C)=0 c(D)=1 c(E)=2 c(F)=1 c(G)=0 c(H)=2 c(I)=2 c(J)=1\n"
     ]
    }
   ],
   "source": [
    "import networkx as nx\n",
    "\n",
    "g = nx.Graph(['AB', 'BC', 'CD', 'DE', 'EA', 'AF', 'BG', 'CH', 'DI', 'EJ', 'JG', 'GI', 'IF', 'FH', 'HJ'])\n",
    "coloring = nx.coloring.greedy_color(g, strategy='largest_first')\n",
    "print(*[f'c({node})={coloring[node]}' for node in coloring])"
   ]
  },
  {
   "cell_type": "markdown",
   "id": "f582424c-3e3f-4211-9e0d-b8ba109822ac",
   "metadata": {},
   "source": [
    "## Cliques and Independent Sets"
   ]
  },
  {
   "cell_type": "code",
   "execution_count": 2,
   "id": "74ed0e26-b9e2-416f-b534-996e844bc1a5",
   "metadata": {},
   "outputs": [
    {
     "name": "stdout",
     "output_type": "stream",
     "text": [
      "Maximal cliques:\n",
      "C A\n",
      "E G\n",
      "D F A H\n",
      "D F B\n",
      "D G B\n"
     ]
    }
   ],
   "source": [
    "from networkx import Graph, find_cliques\n",
    "\n",
    "g = Graph(['AC', 'AD', 'AF', 'AH', 'BD', 'BG', 'BF', 'DH', 'DG', 'EG', 'FH', 'DF'])\n",
    "print('Maximal cliques:')\n",
    "for clique in find_cliques(g):\n",
    "    print(*clique)"
   ]
  },
  {
   "cell_type": "code",
   "execution_count": 3,
   "id": "0b5d1a86-2fe6-459c-942a-0060e63c1253",
   "metadata": {},
   "outputs": [
    {
     "name": "stdout",
     "output_type": "stream",
     "text": [
      "Maximal independent sets:\n",
      "G A\n",
      "G C F\n",
      "G C H\n",
      "E A B\n",
      "E C F\n",
      "E C B H\n",
      "E C D\n"
     ]
    }
   ],
   "source": [
    "from networkx import Graph, find_cliques, complement\n",
    "\n",
    "g = Graph(['AC', 'AD', 'AF', 'AH', 'BD', 'BG', 'BF', 'DH', 'DG', 'EG', 'FH', 'DF'])\n",
    "print('Maximal independent sets:')\n",
    "for clique in find_cliques(complement(g)):\n",
    "    print(*clique)"
   ]
  }
 ],
 "metadata": {
  "kernelspec": {
   "display_name": "Python 3 (ipykernel)",
   "language": "python",
   "name": "python3"
  },
  "language_info": {
   "codemirror_mode": {
    "name": "ipython",
    "version": 3
   },
   "file_extension": ".py",
   "mimetype": "text/x-python",
   "name": "python",
   "nbconvert_exporter": "python",
   "pygments_lexer": "ipython3",
   "version": "3.9.6"
  }
 },
 "nbformat": 4,
 "nbformat_minor": 5
}
